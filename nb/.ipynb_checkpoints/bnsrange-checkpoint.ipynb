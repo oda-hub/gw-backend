{
 "cells": [
  {
   "cell_type": "code",
   "execution_count": 1,
   "metadata": {},
   "outputs": [],
   "source": [
    "from gwpy.timeseries import TimeSeries\n",
    "from gwpy.time import to_gps\n",
    "import numpy as np"
   ]
  },
  {
   "cell_type": "code",
   "execution_count": 2,
   "metadata": {
    "tags": [
     "parameters"
    ]
   },
   "outputs": [],
   "source": [
    "t1 = \"2017-08-17T12:40:54\" \n",
    "t2 = \"2017-08-17T12:41:10\"\n",
    "detector = \"H1\""
   ]
  },
  {
   "cell_type": "code",
   "execution_count": 3,
   "metadata": {},
   "outputs": [],
   "source": [
    "t1 = to_gps(t1)\n",
    "t2 = to_gps(t2)\n",
    "t0 = (t1 + t2) / 2"
   ]
  },
  {
   "cell_type": "code",
   "execution_count": 4,
   "metadata": {},
   "outputs": [],
   "source": [
    "strain = TimeSeries.fetch_open_data(detector, t1, t2, cache=True)"
   ]
  },
  {
   "cell_type": "code",
   "execution_count": 5,
   "metadata": {},
   "outputs": [],
   "source": [
    "psd = strain.psd()\n",
    "f0 = psd.f0.value\n",
    "df = psd.df.value\n",
    "f = np.arange(f0, f0 + df * len(psd), df)\n",
    "\n",
    "#-- constants\n",
    "# speed of light:\n",
    "clight = 2.99792458e8                # m/s\n",
    "# Newton's gravitational constant\n",
    "G = 6.67259e-11                      # m^3/kg/s^2 \n",
    "# one parsec, popular unit of astronomical distance (around 3.26 light years)\n",
    "parsec = 3.08568025e16               # m\n",
    "# solar mass\n",
    "MSol = 1.989e30                      # kg\n",
    "# solar mass in seconds (isn't relativity fun?):\n",
    "tSol = MSol*G/np.power(clight,3)     # s\n",
    "# Single-detector SNR for detection above noise background: \n",
    "SNRdet = 8.\n",
    "# conversion from maximum range (horizon) to average range:\n",
    "Favg = 2.2648\n",
    "# mass of a typical neutron star, in solar masses:\n",
    "mNS = 1.4\n",
    "\n",
    "# Masses in solar masses\n",
    "m1 = m2 = mNS    \n",
    "mtot = m1+m2  # the total mass\n",
    "eta = (m1*m2)/mtot**2  # the symmetric mass ratio\n",
    "mchirp = mtot*eta**(3./5.)  # the chirp mass (FINDCHIRP, following Eqn 3.1b)\n",
    "\n",
    "# distance to a fiducial BNS source:\n",
    "dist = 1.0                           # in Mpc\n",
    "Dist =  dist * 1.0e6 * parsec /clight # from Mpc to seconds\n",
    "\n",
    "# We integrate the signal up to the frequency of the \"Innermost stable circular orbit (ISCO)\" \n",
    "R_isco = 6.      # Orbital separation at ISCO, in geometric units. 6M for PN ISCO; 2.8M for EOB \n",
    "# frequency at ISCO (end the chirp here; the merger and ringdown follow) \n",
    "f_isco = 1./(np.power(R_isco,1.5)*np.pi*tSol*mtot)\n",
    "# minimum frequency (below which, detector noise is too high to register any signal):\n",
    "f_min = 20. # Hz\n",
    "# select the range of frequencies between f_min and fisco\n",
    "fr = np.nonzero(np.logical_and(f > f_min , f < f_isco))\n",
    "# get the frequency and spectrum in that range:\n",
    "ffr = f[fr]\n",
    "\n",
    "# In stationary phase approx, this is htilde(f):  \n",
    "# See FINDCHIRP Eqns 3.4, or 8.4-8.5 \n",
    "htilde = (2.*tSol/Dist)*np.power(mchirp,5./6.)*np.sqrt(5./96./np.pi)*(np.pi*tSol)\n",
    "htilde *= np.power(np.pi*tSol*ffr,-7./6.)\n",
    "htilda2 = htilde**2\n",
    "\n",
    "sspec = psd.value\n",
    "sspecfr = sspec[fr]\n",
    "# compute \"inspiral horizon distance\" for optimally oriented binary; FINDCHIRP Eqn D2:\n",
    "D_BNS = np.sqrt(4.*np.sum(htilda2/sspecfr)*df)/SNRdet\n",
    "# and the \"inspiral range\", averaged over source direction and orientation:\n",
    "R_BNS = D_BNS/Favg"
   ]
  },
  {
   "cell_type": "code",
   "execution_count": 6,
   "metadata": {
    "tags": [
     "outputs"
    ]
   },
   "outputs": [],
   "source": [
    "bns_horizon = D_BNS\n",
    "bns_range = R_BNS"
   ]
  },
  {
   "cell_type": "code",
   "execution_count": null,
   "metadata": {},
   "outputs": [],
   "source": []
  }
 ],
 "metadata": {
  "kernelspec": {
   "display_name": "Python [conda env:gw]",
   "language": "python",
   "name": "conda-env-gw-py"
  },
  "language_info": {
   "codemirror_mode": {
    "name": "ipython",
    "version": 3
   },
   "file_extension": ".py",
   "mimetype": "text/x-python",
   "name": "python",
   "nbconvert_exporter": "python",
   "pygments_lexer": "ipython3",
   "version": "3.9.5"
  }
 },
 "nbformat": 4,
 "nbformat_minor": 4
}
