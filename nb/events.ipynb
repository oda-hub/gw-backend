{
 "cells": [
  {
   "cell_type": "code",
   "execution_count": 1,
   "metadata": {},
   "outputs": [],
   "source": [
    "from gwpy.table import EventTable\n",
    "from gwpy.time import to_gps\n",
    "from io import StringIO, BytesIO\n",
    "from matplotlib import pyplot as plt\n",
    "from ligo.skymap.io import fits\n",
    "from ligo.skymap import postprocess\n",
    "import ligo.skymap.plot\n",
    "import base64"
   ]
  },
  {
   "cell_type": "code",
   "execution_count": 2,
   "metadata": {
    "tags": [
     "parameters"
    ]
   },
   "outputs": [],
   "source": [
    "t1 = \"2017-08-17T12:40:54\" \n",
    "t2 = \"2017-08-25T12:41:10\""
   ]
  },
  {
   "cell_type": "code",
   "execution_count": 3,
   "metadata": {},
   "outputs": [],
   "source": [
    "t1 = to_gps(t1)\n",
    "t2 = to_gps(t2)"
   ]
  },
  {
   "cell_type": "code",
   "execution_count": 8,
   "metadata": {},
   "outputs": [],
   "source": [
    "for catalog in (\"GWTC-1-confident\", \"GWTC-2\"): # , \"O3_Discovery_Papers\"):\n",
    "    tab = EventTable.fetch_open_data(catalog, selection=f'GPS > {t1} && GPS < {t2}')\n",
    "    odatab = tab['commonName', \n",
    "                 'GPS', \n",
    "                 'catalog.shortName',\n",
    "                 'mass_1_source', \n",
    "                 'mass_1_source_lower', \n",
    "                 'mass_1_source_upper', \n",
    "                 'mass_2_source', \n",
    "                 'mass_2_source_lower', \n",
    "                 'mass_2_source_upper', \n",
    "                 'luminosity_distance',\n",
    "                 'luminosity_distance_lower',\n",
    "                 'luminosity_distance_upper']\n",
    "    if odatab:\n",
    "        break"
   ]
  },
  {
   "cell_type": "code",
   "execution_count": 9,
   "metadata": {},
   "outputs": [],
   "source": [
    "odatab.meta = {}"
   ]
  },
  {
   "cell_type": "code",
   "execution_count": 10,
   "metadata": {},
   "outputs": [],
   "source": [
    "with StringIO() as fd:\n",
    "    odatab.write(fd, format='ascii.ecsv')\n",
    "    asciicat = fd.getvalue()"
   ]
  },
  {
   "cell_type": "code",
   "execution_count": 12,
   "metadata": {},
   "outputs": [],
   "source": [
    "plt.figure(figsize=(13, 8))\n",
    "ax = plt.axes(projection=('astro hours mollweide'))\n",
    "lpr = []\n",
    "names = []\n",
    "prop_cycle = plt.rcParams['axes.prop_cycle']\n",
    "colors = prop_cycle.by_key()['color']\n",
    "i = 0\n",
    "\n",
    "for event in odatab:\n",
    "    fits_file = f\"./skymaps/{event['commonName']}.fits\"\n",
    "    contour_levels = [50,90]\n",
    "    try:\n",
    "        skymap, metadata = fits.read_sky_map(fits_file, nest=None)\n",
    "        cls = 100 * postprocess.find_greedy_credible_levels(skymap)\n",
    "        cs = ax.contour_hpx(\n",
    "                    (cls, 'ICRS'), nested=metadata['nest'],\n",
    "                     colors=colors[i], linewidths=1, levels=contour_levels)\n",
    "        lpr.append(plt.Rectangle((0,0),1,1,fc = colors[i]))\n",
    "        i+=1\n",
    "        names.append(event['commonName'])\n",
    "    except:\n",
    "        pass #this could be done better. At least find the way to notify user of missed contours.\n",
    "\n",
    "ax.legend(lpr, names)\n",
    "plt.grid(True)\n",
    "\n",
    "bio = BytesIO()\n",
    "plt.savefig(bio, format='jpg')\n",
    "bio.seek(0)\n",
    "jpgdata = base64.b64encode(bio.read())"
   ]
  },
  {
   "cell_type": "code",
   "execution_count": 13,
   "metadata": {
    "tags": [
     "outputs"
    ]
   },
   "outputs": [],
   "source": [
    "asciicat = asciicat\n",
    "jpgdata = jpgdata.decode()"
   ]
  },
  {
   "cell_type": "code",
   "execution_count": null,
   "metadata": {},
   "outputs": [],
   "source": []
  }
 ],
 "metadata": {
  "kernelspec": {
   "display_name": "Python [conda env:gw]",
   "language": "python",
   "name": "conda-env-gw-py"
  },
  "language_info": {
   "codemirror_mode": {
    "name": "ipython",
    "version": 3
   },
   "file_extension": ".py",
   "mimetype": "text/x-python",
   "name": "python",
   "nbconvert_exporter": "python",
   "pygments_lexer": "ipython3",
   "version": "3.9.6"
  }
 },
 "nbformat": 4,
 "nbformat_minor": 4
}
