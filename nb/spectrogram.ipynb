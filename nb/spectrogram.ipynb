{
 "cells": [
  {
   "cell_type": "code",
   "execution_count": 5,
   "metadata": {},
   "outputs": [],
   "source": [
    "from gwpy.timeseries import TimeSeries\n",
    "from gwpy.time import to_gps"
   ]
  },
  {
   "cell_type": "code",
   "execution_count": 6,
   "metadata": {
    "tags": [
     "parameters"
    ]
   },
   "outputs": [],
   "source": [
    "t1 = \"2017-08-17T12:40:54\" \n",
    "t2 = \"2017-08-17T12:41:10\"\n",
    "detector = \"H1\"\n",
    "whiten = \"true\"\n",
    "qmin = 4\n",
    "qmax = 64"
   ]
  },
  {
   "cell_type": "code",
   "execution_count": null,
   "metadata": {},
   "outputs": [],
   "source": [
    "if whiten == 'true' or whiten == 'True' or whiten == 'yes' or whiten is True:\n",
    "    whiten_bool = True\n",
    "elif whiten == 'false'or whiten == 'False' or whiten == 'no' or whiten is False:\n",
    "    whiten_bool = False\n",
    "else:\n",
    "    raise ValueError('Bad value of \"whiten\" flag')"
   ]
  },
  {
   "cell_type": "code",
   "execution_count": 7,
   "metadata": {},
   "outputs": [],
   "source": [
    "t1 = to_gps(t1)\n",
    "t2 = to_gps(t2)\n",
    "t0 = (t1 + t2) / 2"
   ]
  },
  {
   "cell_type": "code",
   "execution_count": 8,
   "metadata": {},
   "outputs": [],
   "source": [
    "strain = TimeSeries.fetch_open_data(detector, t1, t2, cache=True)"
   ]
  },
  {
   "cell_type": "code",
   "execution_count": 9,
   "metadata": {},
   "outputs": [],
   "source": [
    "hq = strain.q_transform(outseg=(float(t1), float(t2)), logf=True, whiten=whiten_bool, qrange=(qmin, qmax))"
   ]
  },
  {
   "cell_type": "code",
   "execution_count": 10,
   "metadata": {},
   "outputs": [],
   "source": [
    "try:\n",
    "    dy = hq.dy.value\n",
    "except AttributeError:\n",
    "    dy = 'none'"
   ]
  },
  {
   "cell_type": "code",
   "execution_count": 11,
   "metadata": {
    "tags": [
     "outputs"
    ]
   },
   "outputs": [],
   "source": [
    "value = hq.value.tolist()\n",
    "epoch = hq.epoch.value\n",
    "x0 = hq.x0.value\n",
    "dx = hq.dx.value\n",
    "xindex = hq.xindex.value.tolist()\n",
    "y0 = hq.y0.value\n",
    "dy = dy\n",
    "yindex = hq.yindex.value.tolist()"
   ]
  }
 ],
 "metadata": {
  "kernelspec": {
   "display_name": "Python [conda env:gw]",
   "language": "python",
   "name": "conda-env-gw-py"
  },
  "language_info": {
   "codemirror_mode": {
    "name": "ipython",
    "version": 3
   },
   "file_extension": ".py",
   "mimetype": "text/x-python",
   "name": "python",
   "nbconvert_exporter": "python",
   "pygments_lexer": "ipython3",
   "version": "3.6.13"
  }
 },
 "nbformat": 4,
 "nbformat_minor": 4
}
