{
 "cells": [
  {
   "cell_type": "code",
   "execution_count": 1,
   "metadata": {},
   "outputs": [],
   "source": [
    "from gwpy.timeseries import TimeSeries\n",
    "from gwpy.time import to_gps"
   ]
  },
  {
   "cell_type": "code",
   "execution_count": 2,
   "metadata": {
    "tags": [
     "parameters"
    ]
   },
   "outputs": [],
   "source": [
    "t1 = \"2017-08-17T12:40:54\" \n",
    "t2 = \"2017-08-17T12:41:10\"\n",
    "detector = \"H1\"\n",
    "whiten = \"true\"\n",
    "fmin = 30\n",
    "fmax = 400"
   ]
  },
  {
   "cell_type": "code",
   "execution_count": null,
   "metadata": {},
   "outputs": [],
   "source": [
    "if whiten == 'true' or whiten == 'True' or whiten == 'yes' or whiten is True:\n",
    "    whiten_bool = True\n",
    "elif whiten == 'false'or whiten == 'False' or whiten == 'no' or whiten is False:\n",
    "    whiten_bool = False\n",
    "else:\n",
    "    raise ValueError('Bad value of \"whiten\" flag')"
   ]
  },
  {
   "cell_type": "code",
   "execution_count": 3,
   "metadata": {},
   "outputs": [],
   "source": [
    "t1 = to_gps(t1)\n",
    "t2 = to_gps(t2)\n",
    "t0 = (t1 + t2) / 2"
   ]
  },
  {
   "cell_type": "code",
   "execution_count": 4,
   "metadata": {},
   "outputs": [],
   "source": [
    "strain = TimeSeries.fetch_open_data(detector, t1, t2, cache=True)"
   ]
  },
  {
   "cell_type": "code",
   "execution_count": 5,
   "metadata": {},
   "outputs": [],
   "source": [
    "if whiten_bool:\n",
    "    proc_data = strain.whiten()\n",
    "else:\n",
    "    proc_data = strain\n",
    "proc_data = proc_data.bandpass(fmin, fmax)"
   ]
  },
  {
   "cell_type": "code",
   "execution_count": 6,
   "metadata": {
    "tags": [
     "outputs"
    ]
   },
   "outputs": [],
   "source": [
    "ori_strain = strain.value\n",
    "bp_strain = proc_data.value\n",
    "t0 = strain.t0.value\n",
    "dt = strain.dt.value"
   ]
  }
 ],
 "metadata": {
  "kernelspec": {
   "display_name": "Python [conda env:gw]",
   "language": "python",
   "name": "conda-env-gw-py"
  },
  "language_info": {
   "codemirror_mode": {
    "name": "ipython",
    "version": 3
   },
   "file_extension": ".py",
   "mimetype": "text/x-python",
   "name": "python",
   "nbconvert_exporter": "python",
   "pygments_lexer": "ipython3",
   "version": "3.6.13"
  }
 },
 "nbformat": 4,
 "nbformat_minor": 4
}
